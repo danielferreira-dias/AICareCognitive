{
 "cells": [
  {
   "cell_type": "code",
   "execution_count": 45,
   "id": "24d1943e-1fa1-4cde-acb5-b1009fb6831c",
   "metadata": {},
   "outputs": [
    {
     "name": "stdout",
     "output_type": "stream",
     "text": [
      "<class 'pandas.core.frame.DataFrame'>\n",
      "RangeIndex: 2149 entries, 0 to 2148\n",
      "Data columns (total 35 columns):\n",
      " #   Column                     Non-Null Count  Dtype  \n",
      "---  ------                     --------------  -----  \n",
      " 0   PatientID                  2149 non-null   int64  \n",
      " 1   Age                        2149 non-null   int64  \n",
      " 2   Gender                     2149 non-null   int64  \n",
      " 3   Ethnicity                  2149 non-null   int64  \n",
      " 4   EducationLevel             2149 non-null   int64  \n",
      " 5   BMI                        2149 non-null   float64\n",
      " 6   Smoking                    2149 non-null   int64  \n",
      " 7   AlcoholConsumption         2149 non-null   float64\n",
      " 8   PhysicalActivity           2149 non-null   float64\n",
      " 9   DietQuality                2149 non-null   float64\n",
      " 10  SleepQuality               2149 non-null   float64\n",
      " 11  FamilyHistoryAlzheimers    2149 non-null   int64  \n",
      " 12  CardiovascularDisease      2149 non-null   int64  \n",
      " 13  Diabetes                   2149 non-null   int64  \n",
      " 14  Depression                 2149 non-null   int64  \n",
      " 15  HeadInjury                 2149 non-null   int64  \n",
      " 16  Hypertension               2149 non-null   int64  \n",
      " 17  SystolicBP                 2149 non-null   int64  \n",
      " 18  DiastolicBP                2149 non-null   int64  \n",
      " 19  CholesterolTotal           2149 non-null   float64\n",
      " 20  CholesterolLDL             2149 non-null   float64\n",
      " 21  CholesterolHDL             2149 non-null   float64\n",
      " 22  CholesterolTriglycerides   2149 non-null   float64\n",
      " 23  MMSE                       2149 non-null   float64\n",
      " 24  FunctionalAssessment       2149 non-null   float64\n",
      " 25  MemoryComplaints           2149 non-null   int64  \n",
      " 26  BehavioralProblems         2149 non-null   int64  \n",
      " 27  ADL                        2149 non-null   float64\n",
      " 28  Confusion                  2149 non-null   int64  \n",
      " 29  Disorientation             2149 non-null   int64  \n",
      " 30  PersonalityChanges         2149 non-null   int64  \n",
      " 31  DifficultyCompletingTasks  2149 non-null   int64  \n",
      " 32  Forgetfulness              2149 non-null   int64  \n",
      " 33  Diagnosis                  2149 non-null   int64  \n",
      " 34  DoctorInCharge             2149 non-null   object \n",
      "dtypes: float64(12), int64(22), object(1)\n",
      "memory usage: 587.7+ KB\n",
      "None\n",
      "<class 'pandas.core.frame.DataFrame'>\n",
      "RangeIndex: 2105 entries, 0 to 2104\n",
      "Data columns (total 35 columns):\n",
      " #   Column                    Non-Null Count  Dtype  \n",
      "---  ------                    --------------  -----  \n",
      " 0   PatientID                 2105 non-null   int64  \n",
      " 1   Age                       2105 non-null   int64  \n",
      " 2   Gender                    2105 non-null   int64  \n",
      " 3   Ethnicity                 2105 non-null   int64  \n",
      " 4   EducationLevel            2105 non-null   int64  \n",
      " 5   BMI                       2105 non-null   float64\n",
      " 6   Smoking                   2105 non-null   int64  \n",
      " 7   AlcoholConsumption        2105 non-null   float64\n",
      " 8   PhysicalActivity          2105 non-null   float64\n",
      " 9   DietQuality               2105 non-null   float64\n",
      " 10  SleepQuality              2105 non-null   float64\n",
      " 11  FamilyHistoryParkinsons   2105 non-null   int64  \n",
      " 12  TraumaticBrainInjury      2105 non-null   int64  \n",
      " 13  Hypertension              2105 non-null   int64  \n",
      " 14  Diabetes                  2105 non-null   int64  \n",
      " 15  Depression                2105 non-null   int64  \n",
      " 16  Stroke                    2105 non-null   int64  \n",
      " 17  SystolicBP                2105 non-null   int64  \n",
      " 18  DiastolicBP               2105 non-null   int64  \n",
      " 19  CholesterolTotal          2105 non-null   float64\n",
      " 20  CholesterolLDL            2105 non-null   float64\n",
      " 21  CholesterolHDL            2105 non-null   float64\n",
      " 22  CholesterolTriglycerides  2105 non-null   float64\n",
      " 23  UPDRS                     2105 non-null   float64\n",
      " 24  MoCA                      2105 non-null   float64\n",
      " 25  FunctionalAssessment      2105 non-null   float64\n",
      " 26  Tremor                    2105 non-null   int64  \n",
      " 27  Rigidity                  2105 non-null   int64  \n",
      " 28  Bradykinesia              2105 non-null   int64  \n",
      " 29  PosturalInstability       2105 non-null   int64  \n",
      " 30  SpeechProblems            2105 non-null   int64  \n",
      " 31  SleepDisorders            2105 non-null   int64  \n",
      " 32  Constipation              2105 non-null   int64  \n",
      " 33  Diagnosis                 2105 non-null   int64  \n",
      " 34  DoctorInCharge            2105 non-null   object \n",
      "dtypes: float64(12), int64(22), object(1)\n",
      "memory usage: 575.7+ KB\n",
      "None\n"
     ]
    }
   ],
   "source": [
    "import pandas as pd\n",
    "import numpy as np\n",
    "\n",
    "# Relative path to the dataset\n",
    "file_path_Alzheimer = \"../Dataset/alzheimers_disease_data.csv\"\n",
    "file_path_Parkinson = \"../Dataset/parkinsons_disease_data.csv\"\n",
    "\n",
    "# Load the dataset\n",
    "data_Alzheimer = pd.read_csv(file_path_Alzheimer)\n",
    "data_Parkinson = pd.read_csv(file_path_Parkinson)\n",
    "\n",
    "print(data_Alzheimer.info()) ## Check if there's any Null Info and check variable type.\n",
    "print(data_Parkinson.info()) ## Check if there's any Null Info and check variable type.\n",
    "\n"
   ]
  },
  {
   "cell_type": "code",
   "execution_count": 46,
   "id": "6bd7599f-f826-4d03-85a4-5a671052a419",
   "metadata": {},
   "outputs": [],
   "source": [
    "## Cleaning Data\n",
    "\n",
    "## Removing Education Level and DoctorInCharge Variables\n",
    "## Alzheimer Dataset\n",
    "del data_Alzheimer['DoctorInCharge']\n",
    "del data_Alzheimer['EducationLevel']\n",
    "## Parkinson Dataset\n",
    "del data_Parkinson['DoctorInCharge']\n",
    "del data_Parkinson['EducationLevel']"
   ]
  },
  {
   "cell_type": "code",
   "execution_count": 52,
   "id": "6a51d43d-1029-4996-a932-a45a9444313d",
   "metadata": {},
   "outputs": [
    {
     "name": "stdout",
     "output_type": "stream",
     "text": [
      "0       0\n",
      "1       0\n",
      "2       1\n",
      "3       0\n",
      "4       0\n",
      "       ..\n",
      "2100    1\n",
      "2101    0\n",
      "2102    0\n",
      "2103    1\n",
      "2104    0\n",
      "Name: Gender, Length: 2105, dtype: int64\n"
     ]
    }
   ],
   "source": [
    "print(data_Parkinson.Gender)"
   ]
  },
  {
   "cell_type": "code",
   "execution_count": null,
   "id": "85076a4e-b38b-4bb7-9faa-849274df0210",
   "metadata": {},
   "outputs": [],
   "source": []
  }
 ],
 "metadata": {
  "kernelspec": {
   "display_name": "Python 3 (ipykernel)",
   "language": "python",
   "name": "python3"
  },
  "language_info": {
   "codemirror_mode": {
    "name": "ipython",
    "version": 3
   },
   "file_extension": ".py",
   "mimetype": "text/x-python",
   "name": "python",
   "nbconvert_exporter": "python",
   "pygments_lexer": "ipython3",
   "version": "3.12.7"
  }
 },
 "nbformat": 4,
 "nbformat_minor": 5
}
